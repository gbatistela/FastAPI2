{
 "cells": [
  {
   "cell_type": "code",
   "execution_count": 6,
   "metadata": {},
   "outputs": [],
   "source": [
    "import pandas as pd\n",
    "import json\n",
    "from datetime import datetime"
   ]
  },
  {
   "cell_type": "markdown",
   "metadata": {},
   "source": [
    "### `Abrimos el archivo \"output_steam_games.json\"`"
   ]
  },
  {
   "cell_type": "code",
   "execution_count": 7,
   "metadata": {},
   "outputs": [],
   "source": [
    "archivo_json = \"output_steam_games.json\"\n",
    "df_steam_games = pd.read_json(archivo_json, lines=True)"
   ]
  },
  {
   "cell_type": "code",
   "execution_count": 8,
   "metadata": {},
   "outputs": [
    {
     "data": {
      "text/plain": [
       "publisher        object\n",
       "genres           object\n",
       "app_name         object\n",
       "title            object\n",
       "url              object\n",
       "release_date     object\n",
       "tags             object\n",
       "reviews_url      object\n",
       "specs            object\n",
       "price            object\n",
       "early_access    float64\n",
       "id              float64\n",
       "developer        object\n",
       "dtype: object"
      ]
     },
     "execution_count": 8,
     "metadata": {},
     "output_type": "execute_result"
    }
   ],
   "source": [
    "# Observamos el tipo de dato y si es necesario lo modificamos\n",
    "df_steam_games.dtypes"
   ]
  },
  {
   "cell_type": "markdown",
   "metadata": {},
   "source": [
    "Modificamos la columna \"Release_date\""
   ]
  },
  {
   "cell_type": "code",
   "execution_count": 9,
   "metadata": {},
   "outputs": [],
   "source": [
    "# Pasamos a string la columna \"release_date\"\n",
    "df_steam_games['release_date'] = df_steam_games['release_date'].astype(str)"
   ]
  },
  {
   "cell_type": "code",
   "execution_count": 10,
   "metadata": {},
   "outputs": [],
   "source": [
    "# Convertir la columna \"release_date\" a tipo de dato \"datetime\", los valores que no pueden pasarse a datetime los deja como \"NaT\"\n",
    "df_steam_games['release_date']= pd.to_datetime(df_steam_games['release_date'], format='%Y-%m-%d', errors='coerce')"
   ]
  },
  {
   "cell_type": "code",
   "execution_count": 11,
   "metadata": {},
   "outputs": [],
   "source": [
    "# Dejamos unicamente el año en \"release_date\"\n",
    "df_steam_games['release_date'] = df_steam_games['release_date'].dt.year"
   ]
  },
  {
   "cell_type": "code",
   "execution_count": 12,
   "metadata": {},
   "outputs": [],
   "source": [
    "# Borramos los nulos de la columna \"release_date\"\n",
    "df_steam_games = df_steam_games.dropna(subset= \"release_date\")"
   ]
  },
  {
   "cell_type": "markdown",
   "metadata": {},
   "source": [
    "Modificamos la columna \"Price\""
   ]
  },
  {
   "cell_type": "code",
   "execution_count": 13,
   "metadata": {},
   "outputs": [],
   "source": [
    "# La columna tiene datos en numeros y string\n",
    "df_steam_games['price'].value_counts()\n",
    "# Pasamos a tipo numerico y los que no puede pasarlo a numerico los pone como nulos\n",
    "df_steam_games['price'] = pd.to_numeric(df_steam_games['price'], errors='coerce')\n",
    "# Los nulos los reemplaza por \"Free\"\n",
    "df_steam_games['price'].fillna(\"Free\", inplace=True)"
   ]
  },
  {
   "cell_type": "code",
   "execution_count": 14,
   "metadata": {},
   "outputs": [],
   "source": [
    "df_steam_games.to_csv(\"df_steam_games.csv\",index=False)"
   ]
  },
  {
   "cell_type": "markdown",
   "metadata": {},
   "source": [
    "### ``Abrimos el archivo \"australian_user_reviews.json\"``"
   ]
  },
  {
   "cell_type": "code",
   "execution_count": 15,
   "metadata": {},
   "outputs": [],
   "source": [
    "# Abrimos el archivo \"australian_user_reviews.json\"\n",
    "with open(\"australian_user_reviews.json\",\"r\",encoding=\"utf-8\") as f:\n",
    "    data = f.readlines() # readlines() crea en cada linea una lista de cadenas"
   ]
  },
  {
   "cell_type": "code",
   "execution_count": 16,
   "metadata": {},
   "outputs": [],
   "source": [
    "# Hacemos un dataframe df_users\n",
    "df_users = [eval(line.strip()) for line in data]\n",
    "df_users = pd.DataFrame(df_users)"
   ]
  },
  {
   "cell_type": "code",
   "execution_count": 17,
   "metadata": {},
   "outputs": [],
   "source": [
    "# Desanidamos las columnas reviews\n",
    "\n",
    "data_desanidada_users = []\n",
    "for indice, fila in df_users.iterrows():\n",
    "    reviews = fila[\"reviews\"]\n",
    "\n",
    "    # Verificar si items no es None y es iterable\n",
    "    if reviews is not None and isinstance(reviews, (list, tuple)):\n",
    "        for i in reviews:\n",
    "          Fila_Nueva = {\n",
    "          'funny': i.get(\"funny\",\" \"),\n",
    "          'posted': i.get(\"posted\",\" \"),\n",
    "          'last_edited': i.get(\"last_edited\",\" \"),\n",
    "          'item_id': i.get(\"item_id\",\" \"),\n",
    "          'helpful':   i.get(\"helpful\",\" \"),\n",
    "          'recommend': i.get(\"recommend\",\" \"),\n",
    "          'review':    i.get(\"review\",\" \")\n",
    "\n",
    "            }\n",
    "          data_desanidada_users.append(Fila_Nueva)\n",
    "    else:\n",
    "        pass"
   ]
  },
  {
   "cell_type": "code",
   "execution_count": 18,
   "metadata": {},
   "outputs": [],
   "source": [
    "# Hacemos un dataframe con la lista data_desanidada_users\n",
    "data_desanidada_users = pd.DataFrame(data_desanidada_users)"
   ]
  },
  {
   "cell_type": "code",
   "execution_count": 19,
   "metadata": {},
   "outputs": [],
   "source": [
    "# Concatenamos df_steam_games y data_desanidada_users\n",
    "df_users = pd.concat([df_users, data_desanidada_users], axis=1)"
   ]
  },
  {
   "cell_type": "code",
   "execution_count": 20,
   "metadata": {},
   "outputs": [],
   "source": [
    "df_users = df_users.dropna(subset= \"item_id\")"
   ]
  },
  {
   "cell_type": "code",
   "execution_count": 21,
   "metadata": {},
   "outputs": [],
   "source": [
    "df_users = df_users.dropna(subset= \"user_id\")"
   ]
  },
  {
   "cell_type": "code",
   "execution_count": 22,
   "metadata": {},
   "outputs": [],
   "source": [
    "# Una vez transformados los datos y columnas hacemos una exportacion en archivo csv\n",
    "df_users.to_csv(\"df_users.csv\",index=False)"
   ]
  },
  {
   "cell_type": "markdown",
   "metadata": {},
   "source": [
    "### ``Abrimos el archivo \"australian_users_items.json\"``"
   ]
  },
  {
   "cell_type": "code",
   "execution_count": 23,
   "metadata": {},
   "outputs": [],
   "source": [
    "# Abrimos el archivo \"australian_users_items.json\"\n",
    "with open(\"australian_users_items.json\",\"r\",encoding=\"utf-8\") as f:\n",
    "    data = f.readlines() # readlines() crea en cada linea una lista de cadenas"
   ]
  },
  {
   "cell_type": "code",
   "execution_count": 24,
   "metadata": {},
   "outputs": [],
   "source": [
    "# Hacemos un dataframe df_items\n",
    "df_items = [eval(line.strip()) for line in data]\n",
    "df_items = pd.DataFrame(df_items)"
   ]
  },
  {
   "cell_type": "code",
   "execution_count": 25,
   "metadata": {},
   "outputs": [],
   "source": [
    "# Desanidar la columna 'items'\n",
    "data_desanidada_items = df_items.explode('items')"
   ]
  },
  {
   "cell_type": "code",
   "execution_count": 26,
   "metadata": {},
   "outputs": [],
   "source": [
    "data_desanidada_items = pd.json_normalize(data_desanidada_items[\"items\"])"
   ]
  },
  {
   "cell_type": "code",
   "execution_count": 27,
   "metadata": {},
   "outputs": [],
   "source": [
    "# Concatenamos df_items y data_desanidada_items\n",
    "df_items = pd.concat([df_items, data_desanidada_items], axis=1)"
   ]
  },
  {
   "cell_type": "code",
   "execution_count": 28,
   "metadata": {},
   "outputs": [],
   "source": [
    "# Pasamos a string la columna \"user_id\"\n",
    "df_items['user_id'] = df_items['user_id'].astype(str)\n"
   ]
  },
  {
   "cell_type": "code",
   "execution_count": 29,
   "metadata": {},
   "outputs": [],
   "source": [
    "# Borramos los valores vacios de la columna user_id\n",
    "df_items = df_items.dropna(subset= \"user_id\")"
   ]
  },
  {
   "cell_type": "code",
   "execution_count": 30,
   "metadata": {},
   "outputs": [],
   "source": [
    "# Una vez transformados los datos y columnas hacemos una exportacion en archivo csv\n",
    "df_items.to_csv(\"df_items.csv\",index=False)"
   ]
  },
  {
   "cell_type": "code",
   "execution_count": 31,
   "metadata": {},
   "outputs": [],
   "source": [
    "df_items = df_items.dropna(subset= \"user_id\")\n"
   ]
  },
  {
   "cell_type": "code",
   "execution_count": 32,
   "metadata": {},
   "outputs": [
    {
     "data": {
      "text/html": [
       "<div>\n",
       "<style scoped>\n",
       "    .dataframe tbody tr th:only-of-type {\n",
       "        vertical-align: middle;\n",
       "    }\n",
       "\n",
       "    .dataframe tbody tr th {\n",
       "        vertical-align: top;\n",
       "    }\n",
       "\n",
       "    .dataframe thead th {\n",
       "        text-align: right;\n",
       "    }\n",
       "</style>\n",
       "<table border=\"1\" class=\"dataframe\">\n",
       "  <thead>\n",
       "    <tr style=\"text-align: right;\">\n",
       "      <th></th>\n",
       "      <th>user_id</th>\n",
       "      <th>items_count</th>\n",
       "      <th>steam_id</th>\n",
       "      <th>user_url</th>\n",
       "      <th>items</th>\n",
       "      <th>item_id</th>\n",
       "      <th>item_name</th>\n",
       "      <th>playtime_forever</th>\n",
       "      <th>playtime_2weeks</th>\n",
       "    </tr>\n",
       "  </thead>\n",
       "  <tbody>\n",
       "    <tr>\n",
       "      <th>0</th>\n",
       "      <td>76561197970982479</td>\n",
       "      <td>277.0</td>\n",
       "      <td>76561197970982479</td>\n",
       "      <td>http://steamcommunity.com/profiles/76561197970...</td>\n",
       "      <td>[{'item_id': '10', 'item_name': 'Counter-Strik...</td>\n",
       "      <td>10</td>\n",
       "      <td>Counter-Strike</td>\n",
       "      <td>6.0</td>\n",
       "      <td>0.0</td>\n",
       "    </tr>\n",
       "    <tr>\n",
       "      <th>1</th>\n",
       "      <td>js41637</td>\n",
       "      <td>888.0</td>\n",
       "      <td>76561198035864385</td>\n",
       "      <td>http://steamcommunity.com/id/js41637</td>\n",
       "      <td>[{'item_id': '10', 'item_name': 'Counter-Strik...</td>\n",
       "      <td>20</td>\n",
       "      <td>Team Fortress Classic</td>\n",
       "      <td>0.0</td>\n",
       "      <td>0.0</td>\n",
       "    </tr>\n",
       "    <tr>\n",
       "      <th>2</th>\n",
       "      <td>evcentric</td>\n",
       "      <td>137.0</td>\n",
       "      <td>76561198007712555</td>\n",
       "      <td>http://steamcommunity.com/id/evcentric</td>\n",
       "      <td>[{'item_id': '1200', 'item_name': 'Red Orchest...</td>\n",
       "      <td>30</td>\n",
       "      <td>Day of Defeat</td>\n",
       "      <td>7.0</td>\n",
       "      <td>0.0</td>\n",
       "    </tr>\n",
       "    <tr>\n",
       "      <th>3</th>\n",
       "      <td>Riot-Punch</td>\n",
       "      <td>328.0</td>\n",
       "      <td>76561197963445855</td>\n",
       "      <td>http://steamcommunity.com/id/Riot-Punch</td>\n",
       "      <td>[{'item_id': '10', 'item_name': 'Counter-Strik...</td>\n",
       "      <td>40</td>\n",
       "      <td>Deathmatch Classic</td>\n",
       "      <td>0.0</td>\n",
       "      <td>0.0</td>\n",
       "    </tr>\n",
       "    <tr>\n",
       "      <th>4</th>\n",
       "      <td>doctr</td>\n",
       "      <td>541.0</td>\n",
       "      <td>76561198002099482</td>\n",
       "      <td>http://steamcommunity.com/id/doctr</td>\n",
       "      <td>[{'item_id': '300', 'item_name': 'Day of Defea...</td>\n",
       "      <td>50</td>\n",
       "      <td>Half-Life: Opposing Force</td>\n",
       "      <td>0.0</td>\n",
       "      <td>0.0</td>\n",
       "    </tr>\n",
       "    <tr>\n",
       "      <th>...</th>\n",
       "      <td>...</td>\n",
       "      <td>...</td>\n",
       "      <td>...</td>\n",
       "      <td>...</td>\n",
       "      <td>...</td>\n",
       "      <td>...</td>\n",
       "      <td>...</td>\n",
       "      <td>...</td>\n",
       "      <td>...</td>\n",
       "    </tr>\n",
       "    <tr>\n",
       "      <th>5170010</th>\n",
       "      <td>nan</td>\n",
       "      <td>NaN</td>\n",
       "      <td>NaN</td>\n",
       "      <td>NaN</td>\n",
       "      <td>NaN</td>\n",
       "      <td>373330</td>\n",
       "      <td>All Is Dust</td>\n",
       "      <td>0.0</td>\n",
       "      <td>0.0</td>\n",
       "    </tr>\n",
       "    <tr>\n",
       "      <th>5170011</th>\n",
       "      <td>nan</td>\n",
       "      <td>NaN</td>\n",
       "      <td>NaN</td>\n",
       "      <td>NaN</td>\n",
       "      <td>NaN</td>\n",
       "      <td>388490</td>\n",
       "      <td>One Way To Die: Steam Edition</td>\n",
       "      <td>3.0</td>\n",
       "      <td>3.0</td>\n",
       "    </tr>\n",
       "    <tr>\n",
       "      <th>5170012</th>\n",
       "      <td>nan</td>\n",
       "      <td>NaN</td>\n",
       "      <td>NaN</td>\n",
       "      <td>NaN</td>\n",
       "      <td>NaN</td>\n",
       "      <td>521570</td>\n",
       "      <td>You Have 10 Seconds 2</td>\n",
       "      <td>4.0</td>\n",
       "      <td>4.0</td>\n",
       "    </tr>\n",
       "    <tr>\n",
       "      <th>5170013</th>\n",
       "      <td>nan</td>\n",
       "      <td>NaN</td>\n",
       "      <td>NaN</td>\n",
       "      <td>NaN</td>\n",
       "      <td>NaN</td>\n",
       "      <td>519140</td>\n",
       "      <td>Minds Eyes</td>\n",
       "      <td>3.0</td>\n",
       "      <td>3.0</td>\n",
       "    </tr>\n",
       "    <tr>\n",
       "      <th>5170014</th>\n",
       "      <td>nan</td>\n",
       "      <td>NaN</td>\n",
       "      <td>NaN</td>\n",
       "      <td>NaN</td>\n",
       "      <td>NaN</td>\n",
       "      <td>NaN</td>\n",
       "      <td>NaN</td>\n",
       "      <td>NaN</td>\n",
       "      <td>NaN</td>\n",
       "    </tr>\n",
       "  </tbody>\n",
       "</table>\n",
       "<p>5170015 rows × 9 columns</p>\n",
       "</div>"
      ],
      "text/plain": [
       "                   user_id  items_count           steam_id  \\\n",
       "0        76561197970982479        277.0  76561197970982479   \n",
       "1                  js41637        888.0  76561198035864385   \n",
       "2                evcentric        137.0  76561198007712555   \n",
       "3               Riot-Punch        328.0  76561197963445855   \n",
       "4                    doctr        541.0  76561198002099482   \n",
       "...                    ...          ...                ...   \n",
       "5170010                nan          NaN                NaN   \n",
       "5170011                nan          NaN                NaN   \n",
       "5170012                nan          NaN                NaN   \n",
       "5170013                nan          NaN                NaN   \n",
       "5170014                nan          NaN                NaN   \n",
       "\n",
       "                                                  user_url  \\\n",
       "0        http://steamcommunity.com/profiles/76561197970...   \n",
       "1                     http://steamcommunity.com/id/js41637   \n",
       "2                   http://steamcommunity.com/id/evcentric   \n",
       "3                  http://steamcommunity.com/id/Riot-Punch   \n",
       "4                       http://steamcommunity.com/id/doctr   \n",
       "...                                                    ...   \n",
       "5170010                                                NaN   \n",
       "5170011                                                NaN   \n",
       "5170012                                                NaN   \n",
       "5170013                                                NaN   \n",
       "5170014                                                NaN   \n",
       "\n",
       "                                                     items item_id  \\\n",
       "0        [{'item_id': '10', 'item_name': 'Counter-Strik...      10   \n",
       "1        [{'item_id': '10', 'item_name': 'Counter-Strik...      20   \n",
       "2        [{'item_id': '1200', 'item_name': 'Red Orchest...      30   \n",
       "3        [{'item_id': '10', 'item_name': 'Counter-Strik...      40   \n",
       "4        [{'item_id': '300', 'item_name': 'Day of Defea...      50   \n",
       "...                                                    ...     ...   \n",
       "5170010                                                NaN  373330   \n",
       "5170011                                                NaN  388490   \n",
       "5170012                                                NaN  521570   \n",
       "5170013                                                NaN  519140   \n",
       "5170014                                                NaN     NaN   \n",
       "\n",
       "                             item_name  playtime_forever  playtime_2weeks  \n",
       "0                       Counter-Strike               6.0              0.0  \n",
       "1                Team Fortress Classic               0.0              0.0  \n",
       "2                        Day of Defeat               7.0              0.0  \n",
       "3                   Deathmatch Classic               0.0              0.0  \n",
       "4            Half-Life: Opposing Force               0.0              0.0  \n",
       "...                                ...               ...              ...  \n",
       "5170010                    All Is Dust               0.0              0.0  \n",
       "5170011  One Way To Die: Steam Edition               3.0              3.0  \n",
       "5170012          You Have 10 Seconds 2               4.0              4.0  \n",
       "5170013                     Minds Eyes               3.0              3.0  \n",
       "5170014                            NaN               NaN              NaN  \n",
       "\n",
       "[5170015 rows x 9 columns]"
      ]
     },
     "execution_count": 32,
     "metadata": {},
     "output_type": "execute_result"
    }
   ],
   "source": [
    "df_items"
   ]
  },
  {
   "cell_type": "markdown",
   "metadata": {},
   "source": [
    "### `Hacemos un join con las 3 tablas`"
   ]
  },
  {
   "cell_type": "code",
   "execution_count": 33,
   "metadata": {},
   "outputs": [],
   "source": [
    "# Hacemos un join con la columna \"user_id\"\n",
    "df = pd.merge(df_users,df_items, on=\"user_id\", how=\"inner\")"
   ]
  },
  {
   "cell_type": "code",
   "execution_count": 34,
   "metadata": {},
   "outputs": [],
   "source": [
    "# Renombramos el nombre \"app_name\" de la tabla df_steam_games por \"item_name\" para poder hacer un join\n",
    "df_steam_games = df_steam_games.rename(columns={'app_name': 'item_name'})"
   ]
  },
  {
   "cell_type": "code",
   "execution_count": 35,
   "metadata": {},
   "outputs": [],
   "source": [
    "# Hacemos un Join con las columnas \"item_name\"\n",
    "df_games = pd.merge(df,df_steam_games, on=\"item_name\", how=\"inner\")"
   ]
  },
  {
   "cell_type": "code",
   "execution_count": 36,
   "metadata": {},
   "outputs": [],
   "source": [
    "# Borramos las columnas que no vamos a utilizar\n",
    "\n",
    "df_games = df_games.drop(columns= [\"helpful\",\"items_count\",\"steam_id\", \"playtime_2weeks\",\"title\",\"id\",'user_url_x',\"reviews\",\"funny\",\"posted\",\"last_edited\",'user_url_y','items','item_id_y','url','reviews_url','specs', 'early_access',\"publisher\"])\n"
   ]
  },
  {
   "cell_type": "markdown",
   "metadata": {},
   "source": [
    "###  `Análisis de sentimiento con NLP` "
   ]
  },
  {
   "cell_type": "code",
   "execution_count": 37,
   "metadata": {},
   "outputs": [],
   "source": [
    "# Importamos librerias\n",
    "import nltk\n",
    "from textblob import TextBlob"
   ]
  },
  {
   "cell_type": "code",
   "execution_count": 38,
   "metadata": {},
   "outputs": [],
   "source": [
    "# Definir una función para el análisis de sentimiento\n",
    "def analisis_sentimiento(comentario):\n",
    "    blob = TextBlob(str(comentario))\n",
    "    Polaridad = blob.sentiment.polarity\n",
    "\n",
    "    if Polaridad > 0:\n",
    "        return 2\n",
    "    elif Polaridad < 0:\n",
    "        return 0\n",
    "    else:\n",
    "        return 1"
   ]
  },
  {
   "cell_type": "code",
   "execution_count": 39,
   "metadata": {},
   "outputs": [],
   "source": [
    "# Aplicar la función de análisis de sentimiento a la columna \"review\" del DataFrame\n",
    "df_games['sentiment_analysis'] = df_games['review'].apply(lambda x: analisis_sentimiento(x))"
   ]
  },
  {
   "cell_type": "code",
   "execution_count": 40,
   "metadata": {},
   "outputs": [
    {
     "data": {
      "text/html": [
       "<div>\n",
       "<style scoped>\n",
       "    .dataframe tbody tr th:only-of-type {\n",
       "        vertical-align: middle;\n",
       "    }\n",
       "\n",
       "    .dataframe tbody tr th {\n",
       "        vertical-align: top;\n",
       "    }\n",
       "\n",
       "    .dataframe thead th {\n",
       "        text-align: right;\n",
       "    }\n",
       "</style>\n",
       "<table border=\"1\" class=\"dataframe\">\n",
       "  <thead>\n",
       "    <tr style=\"text-align: right;\">\n",
       "      <th></th>\n",
       "      <th>user_id</th>\n",
       "      <th>item_id_x</th>\n",
       "      <th>recommend</th>\n",
       "      <th>item_name</th>\n",
       "      <th>playtime_forever</th>\n",
       "      <th>genres</th>\n",
       "      <th>release_date</th>\n",
       "      <th>tags</th>\n",
       "      <th>price</th>\n",
       "      <th>developer</th>\n",
       "      <th>sentiment_analysis</th>\n",
       "    </tr>\n",
       "  </thead>\n",
       "  <tbody>\n",
       "    <tr>\n",
       "      <th>0</th>\n",
       "      <td>76561197970982479</td>\n",
       "      <td>1250</td>\n",
       "      <td>True</td>\n",
       "      <td>Counter-Strike</td>\n",
       "      <td>6.0</td>\n",
       "      <td>[Action]</td>\n",
       "      <td>2000.0</td>\n",
       "      <td>[Action, FPS, Multiplayer, Shooter, Classic, T...</td>\n",
       "      <td>9.99</td>\n",
       "      <td>Valve</td>\n",
       "      <td>2</td>\n",
       "    </tr>\n",
       "    <tr>\n",
       "      <th>1</th>\n",
       "      <td>76561198060901683</td>\n",
       "      <td>313120</td>\n",
       "      <td>True</td>\n",
       "      <td>Counter-Strike</td>\n",
       "      <td>0.0</td>\n",
       "      <td>[Action]</td>\n",
       "      <td>2000.0</td>\n",
       "      <td>[Action, FPS, Multiplayer, Shooter, Classic, T...</td>\n",
       "      <td>9.99</td>\n",
       "      <td>Valve</td>\n",
       "      <td>2</td>\n",
       "    </tr>\n",
       "    <tr>\n",
       "      <th>2</th>\n",
       "      <td>76561198094455687</td>\n",
       "      <td>200210</td>\n",
       "      <td>False</td>\n",
       "      <td>Counter-Strike</td>\n",
       "      <td>337.0</td>\n",
       "      <td>[Action]</td>\n",
       "      <td>2000.0</td>\n",
       "      <td>[Action, FPS, Multiplayer, Shooter, Classic, T...</td>\n",
       "      <td>9.99</td>\n",
       "      <td>Valve</td>\n",
       "      <td>0</td>\n",
       "    </tr>\n",
       "    <tr>\n",
       "      <th>3</th>\n",
       "      <td>FireHalo</td>\n",
       "      <td>620</td>\n",
       "      <td>True</td>\n",
       "      <td>Counter-Strike</td>\n",
       "      <td>5.0</td>\n",
       "      <td>[Action]</td>\n",
       "      <td>2000.0</td>\n",
       "      <td>[Action, FPS, Multiplayer, Shooter, Classic, T...</td>\n",
       "      <td>9.99</td>\n",
       "      <td>Valve</td>\n",
       "      <td>2</td>\n",
       "    </tr>\n",
       "    <tr>\n",
       "      <th>4</th>\n",
       "      <td>xXGeronimo</td>\n",
       "      <td>295110</td>\n",
       "      <td>True</td>\n",
       "      <td>Counter-Strike</td>\n",
       "      <td>1.0</td>\n",
       "      <td>[Action]</td>\n",
       "      <td>2000.0</td>\n",
       "      <td>[Action, FPS, Multiplayer, Shooter, Classic, T...</td>\n",
       "      <td>9.99</td>\n",
       "      <td>Valve</td>\n",
       "      <td>2</td>\n",
       "    </tr>\n",
       "    <tr>\n",
       "      <th>...</th>\n",
       "      <td>...</td>\n",
       "      <td>...</td>\n",
       "      <td>...</td>\n",
       "      <td>...</td>\n",
       "      <td>...</td>\n",
       "      <td>...</td>\n",
       "      <td>...</td>\n",
       "      <td>...</td>\n",
       "      <td>...</td>\n",
       "      <td>...</td>\n",
       "      <td>...</td>\n",
       "    </tr>\n",
       "    <tr>\n",
       "      <th>16710</th>\n",
       "      <td>76561198155824473</td>\n",
       "      <td>220460</td>\n",
       "      <td>True</td>\n",
       "      <td>TowerFall Ascension</td>\n",
       "      <td>8.0</td>\n",
       "      <td>[Action, Indie]</td>\n",
       "      <td>2014.0</td>\n",
       "      <td>[Local Multiplayer, Indie, Local Co-Op, Action...</td>\n",
       "      <td>14.99</td>\n",
       "      <td>Matt Thorson</td>\n",
       "      <td>2</td>\n",
       "    </tr>\n",
       "    <tr>\n",
       "      <th>16711</th>\n",
       "      <td>Azzaaaa</td>\n",
       "      <td>222880</td>\n",
       "      <td>True</td>\n",
       "      <td>Blood of the Werewolf</td>\n",
       "      <td>0.0</td>\n",
       "      <td>[Action, Indie]</td>\n",
       "      <td>2014.0</td>\n",
       "      <td>[Platformer, Action, Indie, Werewolves, Female...</td>\n",
       "      <td>1.99</td>\n",
       "      <td>Scientifically Proven</td>\n",
       "      <td>1</td>\n",
       "    </tr>\n",
       "    <tr>\n",
       "      <th>16712</th>\n",
       "      <td>uncleshenny</td>\n",
       "      <td>730</td>\n",
       "      <td>True</td>\n",
       "      <td>The Last Federation</td>\n",
       "      <td>63.0</td>\n",
       "      <td>[Indie, Simulation, Strategy]</td>\n",
       "      <td>2014.0</td>\n",
       "      <td>[Strategy, Space, Simulation, Indie, Turn-Base...</td>\n",
       "      <td>19.99</td>\n",
       "      <td>Arcen Games, LLC</td>\n",
       "      <td>0</td>\n",
       "    </tr>\n",
       "    <tr>\n",
       "      <th>16713</th>\n",
       "      <td>76561198161220449</td>\n",
       "      <td>4000</td>\n",
       "      <td>True</td>\n",
       "      <td>The Deed</td>\n",
       "      <td>1.0</td>\n",
       "      <td>[Adventure, RPG]</td>\n",
       "      <td>2015.0</td>\n",
       "      <td>[RPGMaker, Adventure, Crime, Atmospheric, Dete...</td>\n",
       "      <td>0.99</td>\n",
       "      <td>Pilgrim Adventures,GrabTheGames Studios</td>\n",
       "      <td>2</td>\n",
       "    </tr>\n",
       "    <tr>\n",
       "      <th>16714</th>\n",
       "      <td>cyvoxfromyoutube</td>\n",
       "      <td>433850</td>\n",
       "      <td>True</td>\n",
       "      <td>Winged Sakura: Mindy's Arc</td>\n",
       "      <td>10.0</td>\n",
       "      <td>[Indie, RPG, Strategy]</td>\n",
       "      <td>2014.0</td>\n",
       "      <td>[Strategy, Anime, RPG, Indie, Tower Defense, F...</td>\n",
       "      <td>14.99</td>\n",
       "      <td>WINGED SAKURA GAMES</td>\n",
       "      <td>2</td>\n",
       "    </tr>\n",
       "  </tbody>\n",
       "</table>\n",
       "<p>16715 rows × 11 columns</p>\n",
       "</div>"
      ],
      "text/plain": [
       "                 user_id item_id_x  recommend                   item_name  \\\n",
       "0      76561197970982479      1250       True              Counter-Strike   \n",
       "1      76561198060901683    313120       True              Counter-Strike   \n",
       "2      76561198094455687    200210      False              Counter-Strike   \n",
       "3               FireHalo       620       True              Counter-Strike   \n",
       "4             xXGeronimo    295110       True              Counter-Strike   \n",
       "...                  ...       ...        ...                         ...   \n",
       "16710  76561198155824473    220460       True         TowerFall Ascension   \n",
       "16711            Azzaaaa    222880       True       Blood of the Werewolf   \n",
       "16712        uncleshenny       730       True         The Last Federation   \n",
       "16713  76561198161220449      4000       True                    The Deed   \n",
       "16714   cyvoxfromyoutube    433850       True  Winged Sakura: Mindy's Arc   \n",
       "\n",
       "       playtime_forever                         genres  release_date  \\\n",
       "0                   6.0                       [Action]        2000.0   \n",
       "1                   0.0                       [Action]        2000.0   \n",
       "2                 337.0                       [Action]        2000.0   \n",
       "3                   5.0                       [Action]        2000.0   \n",
       "4                   1.0                       [Action]        2000.0   \n",
       "...                 ...                            ...           ...   \n",
       "16710               8.0                [Action, Indie]        2014.0   \n",
       "16711               0.0                [Action, Indie]        2014.0   \n",
       "16712              63.0  [Indie, Simulation, Strategy]        2014.0   \n",
       "16713               1.0               [Adventure, RPG]        2015.0   \n",
       "16714              10.0         [Indie, RPG, Strategy]        2014.0   \n",
       "\n",
       "                                                    tags  price  \\\n",
       "0      [Action, FPS, Multiplayer, Shooter, Classic, T...   9.99   \n",
       "1      [Action, FPS, Multiplayer, Shooter, Classic, T...   9.99   \n",
       "2      [Action, FPS, Multiplayer, Shooter, Classic, T...   9.99   \n",
       "3      [Action, FPS, Multiplayer, Shooter, Classic, T...   9.99   \n",
       "4      [Action, FPS, Multiplayer, Shooter, Classic, T...   9.99   \n",
       "...                                                  ...    ...   \n",
       "16710  [Local Multiplayer, Indie, Local Co-Op, Action...  14.99   \n",
       "16711  [Platformer, Action, Indie, Werewolves, Female...   1.99   \n",
       "16712  [Strategy, Space, Simulation, Indie, Turn-Base...  19.99   \n",
       "16713  [RPGMaker, Adventure, Crime, Atmospheric, Dete...   0.99   \n",
       "16714  [Strategy, Anime, RPG, Indie, Tower Defense, F...  14.99   \n",
       "\n",
       "                                     developer  sentiment_analysis  \n",
       "0                                        Valve                   2  \n",
       "1                                        Valve                   2  \n",
       "2                                        Valve                   0  \n",
       "3                                        Valve                   2  \n",
       "4                                        Valve                   2  \n",
       "...                                        ...                 ...  \n",
       "16710                             Matt Thorson                   2  \n",
       "16711                    Scientifically Proven                   1  \n",
       "16712                         Arcen Games, LLC                   0  \n",
       "16713  Pilgrim Adventures,GrabTheGames Studios                   2  \n",
       "16714                      WINGED SAKURA GAMES                   2  \n",
       "\n",
       "[16715 rows x 11 columns]"
      ]
     },
     "execution_count": 40,
     "metadata": {},
     "output_type": "execute_result"
    }
   ],
   "source": [
    "# Reemplazar \"review\" con \"sentiment_analysis\"\n",
    "df_games.drop(columns= \"review\")"
   ]
  },
  {
   "cell_type": "code",
   "execution_count": 5,
   "metadata": {},
   "outputs": [
    {
     "ename": "NameError",
     "evalue": "name 'df_games' is not defined",
     "output_type": "error",
     "traceback": [
      "\u001b[1;31m---------------------------------------------------------------------------\u001b[0m",
      "\u001b[1;31mNameError\u001b[0m                                 Traceback (most recent call last)",
      "\u001b[1;32mc:\\Users\\Giuliano\\Desktop\\PI MLOps - STEAM\\ETL.ipynb Cell 44\u001b[0m line \u001b[0;36m2\n\u001b[0;32m      <a href='vscode-notebook-cell:/c%3A/Users/Giuliano/Desktop/PI%20MLOps%20-%20STEAM/ETL.ipynb#X61sZmlsZQ%3D%3D?line=0'>1</a>\u001b[0m \u001b[39m# Una vez realizado todas las transformaciones y obtener una sola tabla procedemos a exportar el dataframe \u001b[39;00m\n\u001b[1;32m----> <a href='vscode-notebook-cell:/c%3A/Users/Giuliano/Desktop/PI%20MLOps%20-%20STEAM/ETL.ipynb#X61sZmlsZQ%3D%3D?line=1'>2</a>\u001b[0m df_games\u001b[39m.\u001b[39mto_csv(\u001b[39m\"\u001b[39m\u001b[39mdf_games.csv\u001b[39m\u001b[39m\"\u001b[39m,index\u001b[39m=\u001b[39m\u001b[39mFalse\u001b[39;00m)\n",
      "\u001b[1;31mNameError\u001b[0m: name 'df_games' is not defined"
     ]
    }
   ],
   "source": [
    "# Una vez realizado todas las transformaciones y obtener una sola tabla procedemos a exportar el dataframe \n",
    "df_games.to_csv(\"df_games.csv\",index=False)"
   ]
  },
  {
   "cell_type": "markdown",
   "metadata": {},
   "source": [
    "###  `Funciones para el deployment de la API` "
   ]
  },
  {
   "cell_type": "code",
   "execution_count": 122,
   "metadata": {},
   "outputs": [],
   "source": [
    "import pandas as pd\n",
    "df_games = pd.read_csv(\"df_games.csv\")"
   ]
  },
  {
   "cell_type": "markdown",
   "metadata": {},
   "source": [
    "####  Developer( desarrollador : str ):"
   ]
  },
  {
   "cell_type": "markdown",
   "metadata": {},
   "source": [
    "Cantidad de items y porcentaje de contenido Free por año según empresa desarrolladora"
   ]
  },
  {
   "cell_type": "code",
   "execution_count": 129,
   "metadata": {},
   "outputs": [],
   "source": [
    "def Developer(developer:str):\n",
    "\n",
    "    df_developer = df_games[df_games[\"developer\"] == developer]\n",
    "    # Calcular el total de aplicaciones por año\n",
    "    Cantidad_Items = df_developer.groupby('release_date')['item_id_x'].count().reset_index()\n",
    "\n",
    "\n",
    "    # Los que tienen precio lo instanciamos como \"No Free\"\n",
    "    df_developer.loc[df_developer[\"price\"].apply(lambda x: isinstance(x, float)), \"price\"] = \"No Free\"\n",
    "    \n",
    "    # Agrupamos por año y precios \"Free\" y \"No Free\"\n",
    "    Porcentaje = df_developer.groupby([\"release_date\", \"price\"])[\"price\"].count().unstack()\n",
    "    # Calcula el porcentaje de elementos \"Free\" por año\n",
    "    \n",
    "    if 'Free' in Porcentaje.columns:\n",
    "        Porcentaje[\"Porcentaje_Free\"] = (Porcentaje[\"Free\"] / (Porcentaje[\"Free\"])) * 100\n",
    "        \n",
    "    \n",
    "    \n",
    "    elif 'Free' in Porcentaje.columns and 'No Free' in Porcentaje.columns:\n",
    "        Porcentaje[\"Porcentaje_Free\"] = (Porcentaje[\"Free\"] / (Porcentaje[\"Free\"] + Porcentaje[\"No Free\"])) * 100 \n",
    "\n",
    "    Porcentaje = Porcentaje.fillna(0)\n",
    "        \n",
    "    Años = df_developer.groupby('release_date')[\"item_id_x\"].count().reset_index()\n",
    "\n",
    "    Porcentaje_Free = list(Porcentaje[\"Porcentaje_Free\"].map(\"{:.2f}%\".format))\n",
    "    Años = list(Cantidad_Items[\"release_date\"])\n",
    "    Cantidad_Items = list(Cantidad_Items[\"item_id_x\"])\n",
    "\n",
    "    # Hacemos un zip con las tres listas \n",
    "    listas_unidas = list(zip(Años,Cantidad_Items, Porcentaje_Free))\n",
    "\n",
    "    # Agregamos las claves para cada indice\n",
    "    claves = ['Año', 'Cantidad', 'Porcentaje']\n",
    "    diccionario = [dict(zip(claves, fila)) for fila in listas_unidas]\n",
    "\n",
    "    return diccionario"
   ]
  },
  {
   "cell_type": "code",
   "execution_count": 131,
   "metadata": {},
   "outputs": [
    {
     "data": {
      "text/plain": [
       "[{'Año': 1998.0, 'Cantidad': 33, 'Porcentaje': '0.00%'},\n",
       " {'Año': 1999.0, 'Cantidad': 31, 'Porcentaje': '0.00%'},\n",
       " {'Año': 2000.0, 'Cantidad': 74, 'Porcentaje': '0.00%'},\n",
       " {'Año': 2001.0, 'Cantidad': 19, 'Porcentaje': '0.00%'},\n",
       " {'Año': 2003.0, 'Cantidad': 26, 'Porcentaje': '0.00%'},\n",
       " {'Año': 2004.0, 'Cantidad': 310, 'Porcentaje': '0.00%'},\n",
       " {'Año': 2005.0, 'Cantidad': 86, 'Porcentaje': '100.00%'},\n",
       " {'Año': 2006.0, 'Cantidad': 137, 'Porcentaje': '0.00%'},\n",
       " {'Año': 2007.0, 'Cantidad': 148, 'Porcentaje': '0.00%'},\n",
       " {'Año': 2008.0, 'Cantidad': 33, 'Porcentaje': '0.00%'},\n",
       " {'Año': 2009.0, 'Cantidad': 165, 'Porcentaje': '0.00%'},\n",
       " {'Año': 2010.0, 'Cantidad': 26, 'Porcentaje': '0.00%'},\n",
       " {'Año': 2011.0, 'Cantidad': 90, 'Porcentaje': '0.00%'},\n",
       " {'Año': 2012.0, 'Cantidad': 240, 'Porcentaje': '0.00%'}]"
      ]
     },
     "execution_count": 131,
     "metadata": {},
     "output_type": "execute_result"
    }
   ],
   "source": [
    "Developer(\"Valve\")"
   ]
  },
  {
   "cell_type": "markdown",
   "metadata": {},
   "source": [
    "#### UserForGenre( genero : str ):"
   ]
  },
  {
   "cell_type": "markdown",
   "metadata": {},
   "source": [
    "devolver el usuario que acumula más horas jugadas para el género dado y una lista de la acumulación de horas jugadas por año."
   ]
  },
  {
   "cell_type": "code",
   "execution_count": 20,
   "metadata": {},
   "outputs": [],
   "source": [
    "def UserForGenre(genero):\n",
    "\n",
    "  # Hacemos un dataframe con el genero que le indicamos en la funcion\n",
    "  df_genero = df_games[df_games[\"genres\"]== genero]\n",
    "\n",
    "  # Agrupamos por Usuario el dataframe df_genero\n",
    "  df_agrupados = df_genero.groupby([\"genres\",\"user_id\"])[\"playtime_forever\"].sum().reset_index()\n",
    "\n",
    "  # Usuario que acumulo mas horas jugadas para el genero dado\n",
    "  if not df_agrupados.empty:\n",
    "    Usuario_Horas_Jugadas = df_agrupados[df_agrupados[\"playtime_forever\"]== df_agrupados[\"playtime_forever\"].max()][\"user_id\"].values[0]\n",
    "  else:\n",
    "    Usuario_Horas_Jugadas = None\n",
    "  # LISTA ACUMULADA POR AÑO\n",
    "  # Hacemos un dataframe para el usuario que mas horas jugo con sus años ordenados\n",
    "  df_Horas_Acumulado = df_genero.sort_values(by='release_date')\n",
    "  df_Horas_Acumulado = df_genero[df_genero[\"user_id\"] == Usuario_Horas_Jugadas]\n",
    "\n",
    "  # Calculamos la horas y años de acumulacion y hacemos una lista\n",
    "  Acumulacion_Horas = df_Horas_Acumulado.groupby('release_date')['playtime_forever'].sum().cumsum()\n",
    "  Lista_Horas = Acumulacion_Horas.tolist()\n",
    "\n",
    "  Acumulacion_Años = df_Horas_Acumulado.groupby('release_date')['playtime_forever'].count().reset_index()\n",
    "  Lista_Años = Acumulacion_Años[\"release_date\"].tolist()\n",
    "\n",
    "  # Crear un diccionario que contenga las dos listas\n",
    "  data = {\n",
    "    'Años': Lista_Años,\n",
    "    'Horas': Lista_Horas\n",
    "    }\n",
    "      \n",
    "  \n",
    "\n",
    "\n",
    "  return f\"Usuario con más horas jugadas para {genero}: {data}\""
   ]
  },
  {
   "cell_type": "code",
   "execution_count": 21,
   "metadata": {},
   "outputs": [
    {
     "data": {
      "text/plain": [
       "\"Usuario con más horas jugadas para ['Action', 'Indie']: {'Años': [2013.0], 'Horas': [38740.0]}\""
      ]
     },
     "execution_count": 21,
     "metadata": {},
     "output_type": "execute_result"
    }
   ],
   "source": [
    "UserForGenre(\"['Action', 'Indie']\")"
   ]
  },
  {
   "cell_type": "markdown",
   "metadata": {},
   "source": [
    "#### Userdata( User_id : str )"
   ]
  },
  {
   "cell_type": "markdown",
   "metadata": {},
   "source": [
    "Debe devolver cantidad de dinero gastado por el usuario, el porcentaje de recomendación en base a reviews.recommend y cantidad de items."
   ]
  },
  {
   "cell_type": "code",
   "execution_count": 22,
   "metadata": {},
   "outputs": [],
   "source": [
    "def Userdata(User_id : str):\n",
    "    \n",
    "    # Agrupamos por usuario\n",
    "    df_usuario = df_games[df_games[\"user_id\"]== User_id]\n",
    "\n",
    "    # Convertir los valores de la columna a números (omitir los strings)\n",
    "    df_usuario['price'] = pd.to_numeric(df_usuario['price'], errors='coerce')\n",
    "    # Sumamos el dinero total gastado del usuario\n",
    "    df_dinero_gastado = df_usuario['price'].sum()\n",
    "\n",
    "    # Obtenemos el porcentaje de recomendacion\n",
    "    Porcentaje_Recomendacion = df_usuario[\"recommend\"].mean() * 100\n",
    "    Porcentaje_Recomendacion\n",
    "\n",
    "    Cantidad_items = df_usuario[\"item_id_x\"].count()\n",
    "    \n",
    "    #{\"Usuario X\" : us213ndjss09sdf, \"Dinero gastado\": 200 USD, \"% de recomendación\": 20%, \"cantidad de items\": 5}\n",
    "    diccionario = f\"Usuario X: {User_id}, Dinero gastado: {df_dinero_gastado} USD, % de recomendación: {Porcentaje_Recomendacion}%, Cantidad de items: {Cantidad_items} \"\n",
    "            \n",
    "    \n",
    "    return diccionario\n",
    "\n",
    "\n"
   ]
  },
  {
   "cell_type": "code",
   "execution_count": 23,
   "metadata": {},
   "outputs": [
    {
     "name": "stderr",
     "output_type": "stream",
     "text": [
      "C:\\Users\\Giuliano\\AppData\\Local\\Temp\\ipykernel_4116\\3147296809.py:7: SettingWithCopyWarning: \n",
      "A value is trying to be set on a copy of a slice from a DataFrame.\n",
      "Try using .loc[row_indexer,col_indexer] = value instead\n",
      "\n",
      "See the caveats in the documentation: https://pandas.pydata.org/pandas-docs/stable/user_guide/indexing.html#returning-a-view-versus-a-copy\n",
      "  df_usuario['price'] = pd.to_numeric(df_usuario['price'], errors='coerce')\n"
     ]
    },
    {
     "data": {
      "text/plain": [
       "'Usuario X: DrMolo, Dinero gastado: 79.98 USD, % de recomendación: 100.0%, Cantidad de items: 4 '"
      ]
     },
     "execution_count": 23,
     "metadata": {},
     "output_type": "execute_result"
    }
   ],
   "source": [
    "Userdata(\"DrMolo\")"
   ]
  },
  {
   "cell_type": "markdown",
   "metadata": {},
   "source": [
    "#### Best_developer_year( año : int ): "
   ]
  },
  {
   "cell_type": "markdown",
   "metadata": {},
   "source": [
    "Devuelve el top 3 de desarrolladores con juegos MÁS recomendados por usuarios para el año dado. (reviews.recommend = True y comentarios positivos)"
   ]
  },
  {
   "cell_type": "code",
   "execution_count": 50,
   "metadata": {},
   "outputs": [],
   "source": [
    "def Best_developer_year(año:int):\n",
    "\n",
    "    \n",
    "    df_desarrolador = df_games[df_games[\"release_date\"] == año]\n",
    "    # Agrupamos por desarrolador y sumamos las remcomendaciones \n",
    "    df_agrupados = df_desarrolador.groupby([\"developer\"])[\"recommend\"].sum().reset_index()\n",
    "    # Ordenamos los top 3 desarroladores mas recomendados\n",
    "    Juego_mas_recomendado = df_agrupados.sort_values(by='recommend', ascending=False).head(3)\n",
    "\n",
    "    data = {\n",
    "            'Puesto 1': Juego_mas_recomendado.iloc[0][\"developer\"],\n",
    "            'Puesto 2': Juego_mas_recomendado.iloc[1][\"developer\"],\n",
    "            'Puesto 3': Juego_mas_recomendado.iloc[2][\"developer\"]\n",
    "        }\n",
    "\n",
    "    return data"
   ]
  },
  {
   "cell_type": "code",
   "execution_count": 51,
   "metadata": {},
   "outputs": [
    {
     "data": {
      "text/plain": [
       "{'Puesto 1': 'Gearbox Software',\n",
       " 'Puesto 2': 'Valve',\n",
       " 'Puesto 3': 'MicroProse Software, Inc'}"
      ]
     },
     "execution_count": 51,
     "metadata": {},
     "output_type": "execute_result"
    }
   ],
   "source": [
    "Best_developer_year(2001)"
   ]
  },
  {
   "cell_type": "markdown",
   "metadata": {},
   "source": [
    "#### Developer_reviews_analysis( desarrolladora : str ):"
   ]
  },
  {
   "cell_type": "markdown",
   "metadata": {},
   "source": [
    "Según el desarrollador, se devuelve un diccionario con el nombre del desarrollador como llave y una lista con la cantidad total de registros de reseñas de usuarios que se encuentren categorizados con un análisis de sentimiento como valor positivo o negativo."
   ]
  },
  {
   "cell_type": "code",
   "execution_count": 52,
   "metadata": {},
   "outputs": [],
   "source": [
    "def developer_reviews_analysis( desarrolladora : str ):\n",
    "\n",
    "    df_desarrolador = df_games[df_games[\"developer\"] == desarrolladora]\n",
    "\n",
    "    Cantidad_Registros = df_desarrolador[\"sentiment_analysis\"].value_counts().reset_index()\n",
    "\n",
    "    positivos = f\"Positivos = {Cantidad_Registros.iloc[0][1]}\"\n",
    "    negativos =  f\"Negativos = {Cantidad_Registros.iloc[2][1]}\"\n",
    "    usuario = desarrolladora\n",
    "    data = {\n",
    "                usuario:[positivos, negativos]\n",
    "                }\n",
    "\n",
    "    return data\n",
    "    \n"
   ]
  },
  {
   "cell_type": "code",
   "execution_count": 53,
   "metadata": {},
   "outputs": [
    {
     "data": {
      "text/plain": [
       "{'Facepunch Studios': ['Positivos = 151', 'Negativos = 64']}"
      ]
     },
     "execution_count": 53,
     "metadata": {},
     "output_type": "execute_result"
    }
   ],
   "source": [
    "developer_reviews_analysis(\"Facepunch Studios\")"
   ]
  },
  {
   "cell_type": "markdown",
   "metadata": {},
   "source": [
    "###  `Modelo de aprendizaje automático` "
   ]
  },
  {
   "cell_type": "code",
   "execution_count": 2,
   "metadata": {},
   "outputs": [],
   "source": [
    "import pandas as pd\n",
    "df_games = pd.read_csv(\"df_games.csv\")"
   ]
  },
  {
   "cell_type": "code",
   "execution_count": 31,
   "metadata": {},
   "outputs": [],
   "source": [
    "def Recomendacion_juego(item_name:str):\n",
    "    \n",
    "    from sklearn.metrics.pairwise import cosine_similarity\n",
    "\n",
    "    # Crear una matriz de usuario-item\n",
    "    user_item_matrix = pd.pivot_table(df_games, values='playtime_forever', index='user_id', columns='item_name', fill_value=0)\n",
    "\n",
    "    # Calcular la similitud de coseno entre juegos\n",
    "    game_similarity = cosine_similarity(user_item_matrix.T)\n",
    "\n",
    "    # Encontrar el índice del juego en la matriz\n",
    "    game_index = user_item_matrix.columns.get_loc(item_name)\n",
    "    \n",
    "\n",
    "    # Calcular la similitud de coseno entre el juego deseado y otros juegos\n",
    "    game_similarities = game_similarity[game_index] \n",
    "\n",
    "    # Crear un DataFrame con juegos similares y sus similitudes\n",
    "    similar_games = pd.DataFrame({\n",
    "        'Game': user_item_matrix.columns,\n",
    "        'Similarity': game_similarities\n",
    "    })\n",
    "\n",
    "    # Ordenar los juegos por similitud en orden descendente\n",
    "    top_n_recommendations = similar_games.sort_values(by='Similarity', ascending=False)\n",
    "\n",
    "    # Imprimir los 5 juegos mas recomendados\n",
    "    \n",
    "    top_n_recommendations = list(top_n_recommendations[\"Game\"][1:6])\n",
    "    \n",
    "    return top_n_recommendations"
   ]
  },
  {
   "cell_type": "code",
   "execution_count": 34,
   "metadata": {},
   "outputs": [
    {
     "data": {
      "text/plain": [
       "['Ride! Carnival Tycoon',\n",
       " 'Reus',\n",
       " 'Reveal The Deep',\n",
       " 'Revenge of the Titans',\n",
       " 'Revolution Ace']"
      ]
     },
     "execution_count": 34,
     "metadata": {},
     "output_type": "execute_result"
    }
   ],
   "source": [
    "Recomendacion_juego('Company of Heroes 2')"
   ]
  }
 ],
 "metadata": {
  "kernelspec": {
   "display_name": "Python 3",
   "language": "python",
   "name": "python3"
  },
  "language_info": {
   "codemirror_mode": {
    "name": "ipython",
    "version": 3
   },
   "file_extension": ".py",
   "mimetype": "text/x-python",
   "name": "python",
   "nbconvert_exporter": "python",
   "pygments_lexer": "ipython3",
   "version": "3.9.13"
  }
 },
 "nbformat": 4,
 "nbformat_minor": 2
}
