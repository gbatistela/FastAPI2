{
 "cells": [
  {
   "cell_type": "code",
   "execution_count": 2,
   "metadata": {},
   "outputs": [],
   "source": [
    "import pandas as pd\n",
    "df_games = pd.read_csv(\"df_games.csv\")"
   ]
  },
  {
   "cell_type": "code",
   "execution_count": 5,
   "metadata": {},
   "outputs": [],
   "source": [
    "from sklearn.metrics.pairwise import cosine_similarity"
   ]
  },
  {
   "cell_type": "code",
   "execution_count": null,
   "metadata": {},
   "outputs": [],
   "source": [
    "def top_recomendados(game:str):\n",
    "    \n",
    "    from sklearn.metrics.pairwise import cosine_similarity\n",
    "\n",
    "    # Crear una matriz de usuario-item (User-Item Matrix)\n",
    "    user_item_matrix = pd.pivot_table(df_games, values='playtime_forever', index='user_id', columns='item_name', fill_value=0)\n",
    "\n",
    "    # Calcular la similitud de coseno entre juegos\n",
    "    game_similarity = cosine_similarity(user_item_matrix.T)\n",
    "\n",
    "\n",
    "    # Encontrar el índice del juego en la matriz\n",
    "\n",
    "    game_index = user_item_matrix.columns.get_loc(game)\n",
    "    \n",
    "\n",
    "    # Calcular la similitud de coseno entre el juego deseado y otros juegos\n",
    "    game_similarities = game_similarity[game_index]\n",
    "\n",
    "    # Crear un DataFrame con juegos similares y sus similitudes\n",
    "    similar_games = pd.DataFrame({\n",
    "        'Game': user_item_matrix.columns,\n",
    "        'Similarity': game_similarities\n",
    "    })\n",
    "\n",
    "    # Ordenar los juegos por similitud en orden descendente\n",
    "    top_n_recommendations = similar_games.sort_values(by='Similarity', ascending=False)\n",
    "\n",
    "    # Imprimir los 5 juegos mas recomendados\n",
    "    \n",
    "    top_n_recommendations = top_n_recommendations.head(6)\n",
    "\n",
    "    return list(top_n_recommendations[\"Game\"][1:6])"
   ]
  },
  {
   "cell_type": "code",
   "execution_count": null,
   "metadata": {},
   "outputs": [],
   "source": [
    "top_recomendados('WAKFU')"
   ]
  },
  {
   "cell_type": "code",
   "execution_count": null,
   "metadata": {},
   "outputs": [],
   "source": []
  },
  {
   "cell_type": "code",
   "execution_count": null,
   "metadata": {},
   "outputs": [],
   "source": []
  }
 ],
 "metadata": {
  "kernelspec": {
   "display_name": "venv",
   "language": "python",
   "name": "python3"
  },
  "language_info": {
   "codemirror_mode": {
    "name": "ipython",
    "version": 3
   },
   "file_extension": ".py",
   "mimetype": "text/x-python",
   "name": "python",
   "nbconvert_exporter": "python",
   "pygments_lexer": "ipython3",
   "version": "3.9.13"
  }
 },
 "nbformat": 4,
 "nbformat_minor": 2
}
